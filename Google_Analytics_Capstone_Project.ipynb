{
 "cells": [
  {
   "cell_type": "markdown",
   "id": "f6e36de3",
   "metadata": {},
   "source": [
    "# <span style=\"color:blue\"> CAPSTONE PROJECT CASE STUDY </span> \n",
    "\n",
    "\n",
    "# Google Data Analytics Professional Certificate\n",
    "\n",
    "\n",
    "\n",
    "\n",
    "\n",
    "\n"
   ]
  },
  {
   "cell_type": "markdown",
   "id": "f3d551c0",
   "metadata": {},
   "source": [
    " The following end-to-end project is the capstone project for [Google's Data Analytics Professional Certificate](https://www.coursera.org/professional-certificates/google-data-analytics).\n",
    " \n",
    "The professional certificate consists of 8 courses structured around the phases of a data analysis project: \n",
    "\n",
    "1. Ask\n",
    "2. Prepare\n",
    "3. Process\n",
    "4. Analize\n",
    "5. Share\n",
    "6. Act\n",
    "\n",
    "In the case study the marketing analyst team of a bike-share company has the task of analyzing historical data in order to inform the marketing strategy of the company.\n",
    "\n",
    "The courses forming part of the certificate use various tools for different phases of the project, introducing the relevant techniques via examples in spreadsheets, SQL, Tableau and R. We expand on this set of tools by bringing into the picture Python together with relevant libraries like NumPy, Pandas and MathplotLib. This approach also has the advantage of allowing the whole process to be executed in one place through the use of a Jupyter Notebook environment.   \n"
   ]
  },
  {
   "cell_type": "markdown",
   "id": "32cb79cd",
   "metadata": {},
   "source": [
    "## 0. Framework of the problem\n",
    "\n",
    "<img  src=\"Cyclistic.png\" width=\"150\"  >\n",
    "\n",
    "*Cyclistic*  is a fictional bike-share company based in Chicago. The company has two different kinds of customers, casual riders,  who purchase single-ride or full-day passes, and Cyclistic members, who purchase annual memberships. The later are more profitable for the company so the marketing analysis team has the task of developing an strategy to convert casual riders into members.\n"
   ]
  },
  {
   "cell_type": "markdown",
   "id": "a793d546",
   "metadata": {},
   "source": [
    "## 1. Ask\n",
    "\n",
    "The first part of the analysis process consist in formulating the problem in a clear concise way. The formulation of the problem has to take into account the context in which the analysis will be made as well as the key stakeholders who will act upon, and be affected by, the findings of the study. It is essential to identify what is the problem the analysis is trying to solve and formulate this problem in a way that allow us to measure the success of the outcome of the study. The insights provided by our findings will drive business decisions within the company so a solid formulation of the problem is key to the success  of the project.\n",
    "\n",
    "### Overall goal in which the project is framed: \n",
    "\n",
    "*Design marketing strategies aimed at converting casual riders into annual members.*\n",
    "\n",
    "### Question to be answered by the current analysis:\n",
    "\n",
    "*How do annual members and casual riders use Cyclistic bikes\n",
    "diﬀerently?*\n"
   ]
  },
  {
   "cell_type": "markdown",
   "id": "7e55ddce",
   "metadata": {},
   "source": [
    "## 2. Prepare\n",
    "\n",
    "\n",
    "In this part of the project we collect the data and address the various issues that will ensure we can use the data in order answer the above question. In particular we need to:\n",
    "\n",
    "- Collect the data.\n",
    "- Address licensing, privacy, security, and accessibility of the data.\n",
    "- Verify the data’s integrity.\n"
   ]
  },
  {
   "cell_type": "markdown",
   "id": "4cee5554",
   "metadata": {},
   "source": [
    "### Collecting the data\n",
    "\n",
    "\n",
    "The data is hosted at Amazon Simple Storage Service and can be accessed via the following URL: \n",
    "\n",
    "[https://divvy-tripdata.s3.amazonaws.com/index.html](https://divvy-tripdata.s3.amazonaws.com/index.html)\n",
    "\n",
    "For our analysis we will use the data from 2022. This data is organized per month with the data of each month corresponding to a .csv file. \n",
    "\n",
    "We use the following code to download the data directly from the webpage, unzip the data and store in a local folder that we create for the project. We have broken the script into snippets to better identify each part of the process. \n"
   ]
  },
  {
   "cell_type": "code",
   "execution_count": 1,
   "id": "f8519712",
   "metadata": {},
   "outputs": [],
   "source": [
    "# Import libraries and modules\n",
    "import os\n",
    "import zipfile\n",
    "import urllib\n",
    "from zipfile import ZipFile"
   ]
  },
  {
   "cell_type": "code",
   "execution_count": 2,
   "id": "21129195",
   "metadata": {},
   "outputs": [],
   "source": [
    "# Define paths\n",
    "DOWNLOAD_ROOT = \"https://divvy-tripdata.s3.amazonaws.com\"\n",
    "DATA_PATH = \"cyclistic_data\" "
   ]
  },
  {
   "cell_type": "code",
   "execution_count": 3,
   "id": "3e2f6aac",
   "metadata": {},
   "outputs": [
    {
     "data": {
      "text/plain": [
       "'https://divvy-tripdata.s3.amazonaws.com/202201-divvy-tripdata.zip'"
      ]
     },
     "execution_count": 3,
     "metadata": {},
     "output_type": "execute_result"
    }
   ],
   "source": [
    "#An example URL path \n",
    "data_url_example = DOWNLOAD_ROOT+\"/\"+\"202201-divvy-tripdata.zip\"\n",
    "data_url_example"
   ]
  },
  {
   "cell_type": "code",
   "execution_count": 4,
   "id": "2e048c84",
   "metadata": {},
   "outputs": [],
   "source": [
    "# The following function is used to fetch the data\n",
    "# The input \"month_data\" is a string containing the local path of each month in the website\n",
    "# example: \"202201-divvy-tripdata.zip\"\n",
    "def fetch_data(month_data, data_path = DATA_PATH):\n",
    "    data_url = DOWNLOAD_ROOT+\"/\"+month_data\n",
    "    os.makedirs(data_path, exist_ok=True) # Creates the directory where the data sets will be stored.\n",
    "    data_zip_path = os.path.join(data_path, month_data)\n",
    "    urllib.request.urlretrieve(data_url,data_zip_path)\n",
    "    data_zipfile = zipfile.ZipFile(data_zip_path)\n",
    "    data_zipfile.extractall(path=data_path)\n",
    "    data_zipfile.close"
   ]
  },
  {
   "cell_type": "code",
   "execution_count": 5,
   "id": "13b91895",
   "metadata": {},
   "outputs": [],
   "source": [
    "# Now we can use the above function to get the data for the whole year\n",
    "Months = [\"202201\",\"202202\",\"202203\",\"202204\",\"202205\",\"202206\",\"202207\",\"202208\",\"202209\",\"202210\",\"202211\",\"202212\"]\n",
    "for month in Months:\n",
    "    month_data = month+\"-divvy-tripdata.zip\"\n",
    "    fetch_data(month_data)"
   ]
  },
  {
   "cell_type": "markdown",
   "id": "806757e2",
   "metadata": {},
   "source": [
    "Lets look a little into the structure of the data by creating dataframes for January and October."
   ]
  },
  {
   "cell_type": "code",
   "execution_count": 6,
   "id": "67d6207d",
   "metadata": {},
   "outputs": [],
   "source": [
    "import pandas as pd\n",
    "import numpy as np\n",
    "from datetime import datetime"
   ]
  },
  {
   "cell_type": "code",
   "execution_count": 7,
   "id": "1eb04157",
   "metadata": {},
   "outputs": [
    {
     "data": {
      "text/html": [
       "<div>\n",
       "<style scoped>\n",
       "    .dataframe tbody tr th:only-of-type {\n",
       "        vertical-align: middle;\n",
       "    }\n",
       "\n",
       "    .dataframe tbody tr th {\n",
       "        vertical-align: top;\n",
       "    }\n",
       "\n",
       "    .dataframe thead th {\n",
       "        text-align: right;\n",
       "    }\n",
       "</style>\n",
       "<table border=\"1\" class=\"dataframe\">\n",
       "  <thead>\n",
       "    <tr style=\"text-align: right;\">\n",
       "      <th></th>\n",
       "      <th>ride_id</th>\n",
       "      <th>rideable_type</th>\n",
       "      <th>started_at</th>\n",
       "      <th>ended_at</th>\n",
       "      <th>start_station_name</th>\n",
       "      <th>start_station_id</th>\n",
       "      <th>end_station_name</th>\n",
       "      <th>end_station_id</th>\n",
       "      <th>start_lat</th>\n",
       "      <th>start_lng</th>\n",
       "      <th>end_lat</th>\n",
       "      <th>end_lng</th>\n",
       "      <th>member_casual</th>\n",
       "    </tr>\n",
       "  </thead>\n",
       "  <tbody>\n",
       "    <tr>\n",
       "      <th>0</th>\n",
       "      <td>C2F7DD78E82EC875</td>\n",
       "      <td>electric_bike</td>\n",
       "      <td>2022-01-13 11:59:47</td>\n",
       "      <td>2022-01-13 12:02:44</td>\n",
       "      <td>Glenwood Ave &amp; Touhy Ave</td>\n",
       "      <td>525</td>\n",
       "      <td>Clark St &amp; Touhy Ave</td>\n",
       "      <td>RP-007</td>\n",
       "      <td>42.012800</td>\n",
       "      <td>-87.665906</td>\n",
       "      <td>42.012560</td>\n",
       "      <td>-87.674367</td>\n",
       "      <td>casual</td>\n",
       "    </tr>\n",
       "    <tr>\n",
       "      <th>1</th>\n",
       "      <td>A6CF8980A652D272</td>\n",
       "      <td>electric_bike</td>\n",
       "      <td>2022-01-10 08:41:56</td>\n",
       "      <td>2022-01-10 08:46:17</td>\n",
       "      <td>Glenwood Ave &amp; Touhy Ave</td>\n",
       "      <td>525</td>\n",
       "      <td>Clark St &amp; Touhy Ave</td>\n",
       "      <td>RP-007</td>\n",
       "      <td>42.012763</td>\n",
       "      <td>-87.665967</td>\n",
       "      <td>42.012560</td>\n",
       "      <td>-87.674367</td>\n",
       "      <td>casual</td>\n",
       "    </tr>\n",
       "    <tr>\n",
       "      <th>2</th>\n",
       "      <td>BD0F91DFF741C66D</td>\n",
       "      <td>classic_bike</td>\n",
       "      <td>2022-01-25 04:53:40</td>\n",
       "      <td>2022-01-25 04:58:01</td>\n",
       "      <td>Sheffield Ave &amp; Fullerton Ave</td>\n",
       "      <td>TA1306000016</td>\n",
       "      <td>Greenview Ave &amp; Fullerton Ave</td>\n",
       "      <td>TA1307000001</td>\n",
       "      <td>41.925602</td>\n",
       "      <td>-87.653708</td>\n",
       "      <td>41.925330</td>\n",
       "      <td>-87.665800</td>\n",
       "      <td>member</td>\n",
       "    </tr>\n",
       "    <tr>\n",
       "      <th>3</th>\n",
       "      <td>CBB80ED419105406</td>\n",
       "      <td>classic_bike</td>\n",
       "      <td>2022-01-04 00:18:04</td>\n",
       "      <td>2022-01-04 00:33:00</td>\n",
       "      <td>Clark St &amp; Bryn Mawr Ave</td>\n",
       "      <td>KA1504000151</td>\n",
       "      <td>Paulina St &amp; Montrose Ave</td>\n",
       "      <td>TA1309000021</td>\n",
       "      <td>41.983593</td>\n",
       "      <td>-87.669154</td>\n",
       "      <td>41.961507</td>\n",
       "      <td>-87.671387</td>\n",
       "      <td>casual</td>\n",
       "    </tr>\n",
       "    <tr>\n",
       "      <th>4</th>\n",
       "      <td>DDC963BFDDA51EEA</td>\n",
       "      <td>classic_bike</td>\n",
       "      <td>2022-01-20 01:31:10</td>\n",
       "      <td>2022-01-20 01:37:12</td>\n",
       "      <td>Michigan Ave &amp; Jackson Blvd</td>\n",
       "      <td>TA1309000002</td>\n",
       "      <td>State St &amp; Randolph St</td>\n",
       "      <td>TA1305000029</td>\n",
       "      <td>41.877850</td>\n",
       "      <td>-87.624080</td>\n",
       "      <td>41.884621</td>\n",
       "      <td>-87.627834</td>\n",
       "      <td>member</td>\n",
       "    </tr>\n",
       "  </tbody>\n",
       "</table>\n",
       "</div>"
      ],
      "text/plain": [
       "            ride_id  rideable_type           started_at             ended_at  \\\n",
       "0  C2F7DD78E82EC875  electric_bike  2022-01-13 11:59:47  2022-01-13 12:02:44   \n",
       "1  A6CF8980A652D272  electric_bike  2022-01-10 08:41:56  2022-01-10 08:46:17   \n",
       "2  BD0F91DFF741C66D   classic_bike  2022-01-25 04:53:40  2022-01-25 04:58:01   \n",
       "3  CBB80ED419105406   classic_bike  2022-01-04 00:18:04  2022-01-04 00:33:00   \n",
       "4  DDC963BFDDA51EEA   classic_bike  2022-01-20 01:31:10  2022-01-20 01:37:12   \n",
       "\n",
       "              start_station_name start_station_id  \\\n",
       "0       Glenwood Ave & Touhy Ave              525   \n",
       "1       Glenwood Ave & Touhy Ave              525   \n",
       "2  Sheffield Ave & Fullerton Ave     TA1306000016   \n",
       "3       Clark St & Bryn Mawr Ave     KA1504000151   \n",
       "4    Michigan Ave & Jackson Blvd     TA1309000002   \n",
       "\n",
       "                end_station_name end_station_id  start_lat  start_lng  \\\n",
       "0           Clark St & Touhy Ave         RP-007  42.012800 -87.665906   \n",
       "1           Clark St & Touhy Ave         RP-007  42.012763 -87.665967   \n",
       "2  Greenview Ave & Fullerton Ave   TA1307000001  41.925602 -87.653708   \n",
       "3      Paulina St & Montrose Ave   TA1309000021  41.983593 -87.669154   \n",
       "4         State St & Randolph St   TA1305000029  41.877850 -87.624080   \n",
       "\n",
       "     end_lat    end_lng member_casual  \n",
       "0  42.012560 -87.674367        casual  \n",
       "1  42.012560 -87.674367        casual  \n",
       "2  41.925330 -87.665800        member  \n",
       "3  41.961507 -87.671387        casual  \n",
       "4  41.884621 -87.627834        member  "
      ]
     },
     "execution_count": 7,
     "metadata": {},
     "output_type": "execute_result"
    }
   ],
   "source": [
    "csv_path_202201_tripdata = os.path.join(DATA_PATH,\"202201-divvy-tripdata.csv\")\n",
    "df_202201_tripdata = pd.read_csv(csv_path_202201_tripdata)\n",
    "df_202201_tripdata.head()"
   ]
  },
  {
   "cell_type": "code",
   "execution_count": 8,
   "id": "9a70cb24",
   "metadata": {},
   "outputs": [
    {
     "name": "stdout",
     "output_type": "stream",
     "text": [
      "<class 'pandas.core.frame.DataFrame'>\n",
      "RangeIndex: 103770 entries, 0 to 103769\n",
      "Data columns (total 13 columns):\n",
      " #   Column              Non-Null Count   Dtype  \n",
      "---  ------              --------------   -----  \n",
      " 0   ride_id             103770 non-null  object \n",
      " 1   rideable_type       103770 non-null  object \n",
      " 2   started_at          103770 non-null  object \n",
      " 3   ended_at            103770 non-null  object \n",
      " 4   start_station_name  87510 non-null   object \n",
      " 5   start_station_id    87510 non-null   object \n",
      " 6   end_station_name    85843 non-null   object \n",
      " 7   end_station_id      85843 non-null   object \n",
      " 8   start_lat           103770 non-null  float64\n",
      " 9   start_lng           103770 non-null  float64\n",
      " 10  end_lat             103684 non-null  float64\n",
      " 11  end_lng             103684 non-null  float64\n",
      " 12  member_casual       103770 non-null  object \n",
      "dtypes: float64(4), object(9)\n",
      "memory usage: 10.3+ MB\n"
     ]
    }
   ],
   "source": [
    "df_202201_tripdata.info()"
   ]
  },
  {
   "cell_type": "code",
   "execution_count": 9,
   "id": "b21d0725",
   "metadata": {
    "scrolled": true
   },
   "outputs": [
    {
     "data": {
      "text/html": [
       "<div>\n",
       "<style scoped>\n",
       "    .dataframe tbody tr th:only-of-type {\n",
       "        vertical-align: middle;\n",
       "    }\n",
       "\n",
       "    .dataframe tbody tr th {\n",
       "        vertical-align: top;\n",
       "    }\n",
       "\n",
       "    .dataframe thead th {\n",
       "        text-align: right;\n",
       "    }\n",
       "</style>\n",
       "<table border=\"1\" class=\"dataframe\">\n",
       "  <thead>\n",
       "    <tr style=\"text-align: right;\">\n",
       "      <th></th>\n",
       "      <th>ride_id</th>\n",
       "      <th>rideable_type</th>\n",
       "      <th>started_at</th>\n",
       "      <th>ended_at</th>\n",
       "      <th>start_station_name</th>\n",
       "      <th>start_station_id</th>\n",
       "      <th>end_station_name</th>\n",
       "      <th>end_station_id</th>\n",
       "      <th>start_lat</th>\n",
       "      <th>start_lng</th>\n",
       "      <th>end_lat</th>\n",
       "      <th>end_lng</th>\n",
       "      <th>member_casual</th>\n",
       "    </tr>\n",
       "  </thead>\n",
       "  <tbody>\n",
       "    <tr>\n",
       "      <th>0</th>\n",
       "      <td>A50255C1E17942AB</td>\n",
       "      <td>classic_bike</td>\n",
       "      <td>2022-10-14 17:13:30</td>\n",
       "      <td>2022-10-14 17:19:39</td>\n",
       "      <td>Noble St &amp; Milwaukee Ave</td>\n",
       "      <td>13290</td>\n",
       "      <td>Larrabee St &amp; Division St</td>\n",
       "      <td>KA1504000079</td>\n",
       "      <td>41.900680</td>\n",
       "      <td>-87.662600</td>\n",
       "      <td>41.903486</td>\n",
       "      <td>-87.643353</td>\n",
       "      <td>member</td>\n",
       "    </tr>\n",
       "    <tr>\n",
       "      <th>1</th>\n",
       "      <td>DB692A70BD2DD4E3</td>\n",
       "      <td>electric_bike</td>\n",
       "      <td>2022-10-01 16:29:26</td>\n",
       "      <td>2022-10-01 16:49:06</td>\n",
       "      <td>Damen Ave &amp; Charleston St</td>\n",
       "      <td>13288</td>\n",
       "      <td>Damen Ave &amp; Cullerton St</td>\n",
       "      <td>13089</td>\n",
       "      <td>41.920037</td>\n",
       "      <td>-87.677937</td>\n",
       "      <td>41.854967</td>\n",
       "      <td>-87.675700</td>\n",
       "      <td>casual</td>\n",
       "    </tr>\n",
       "    <tr>\n",
       "      <th>2</th>\n",
       "      <td>3C02727AAF60F873</td>\n",
       "      <td>electric_bike</td>\n",
       "      <td>2022-10-19 18:55:40</td>\n",
       "      <td>2022-10-19 19:03:30</td>\n",
       "      <td>Hoyne Ave &amp; Balmoral Ave</td>\n",
       "      <td>655</td>\n",
       "      <td>Western Ave &amp; Leland Ave</td>\n",
       "      <td>TA1307000140</td>\n",
       "      <td>41.979879</td>\n",
       "      <td>-87.681902</td>\n",
       "      <td>41.966400</td>\n",
       "      <td>-87.688704</td>\n",
       "      <td>member</td>\n",
       "    </tr>\n",
       "    <tr>\n",
       "      <th>3</th>\n",
       "      <td>47E653FDC2D99236</td>\n",
       "      <td>electric_bike</td>\n",
       "      <td>2022-10-31 07:52:36</td>\n",
       "      <td>2022-10-31 07:58:49</td>\n",
       "      <td>Rush St &amp; Cedar St</td>\n",
       "      <td>KA1504000133</td>\n",
       "      <td>Orleans St &amp; Chestnut St (NEXT Apts)</td>\n",
       "      <td>620</td>\n",
       "      <td>41.902274</td>\n",
       "      <td>-87.627692</td>\n",
       "      <td>41.898203</td>\n",
       "      <td>-87.637536</td>\n",
       "      <td>member</td>\n",
       "    </tr>\n",
       "    <tr>\n",
       "      <th>4</th>\n",
       "      <td>8B5407BE535159BF</td>\n",
       "      <td>classic_bike</td>\n",
       "      <td>2022-10-13 18:41:03</td>\n",
       "      <td>2022-10-13 19:26:18</td>\n",
       "      <td>900 W Harrison St</td>\n",
       "      <td>13028</td>\n",
       "      <td>Adler Planetarium</td>\n",
       "      <td>13431</td>\n",
       "      <td>41.874754</td>\n",
       "      <td>-87.649807</td>\n",
       "      <td>41.866095</td>\n",
       "      <td>-87.607267</td>\n",
       "      <td>casual</td>\n",
       "    </tr>\n",
       "  </tbody>\n",
       "</table>\n",
       "</div>"
      ],
      "text/plain": [
       "            ride_id  rideable_type           started_at             ended_at  \\\n",
       "0  A50255C1E17942AB   classic_bike  2022-10-14 17:13:30  2022-10-14 17:19:39   \n",
       "1  DB692A70BD2DD4E3  electric_bike  2022-10-01 16:29:26  2022-10-01 16:49:06   \n",
       "2  3C02727AAF60F873  electric_bike  2022-10-19 18:55:40  2022-10-19 19:03:30   \n",
       "3  47E653FDC2D99236  electric_bike  2022-10-31 07:52:36  2022-10-31 07:58:49   \n",
       "4  8B5407BE535159BF   classic_bike  2022-10-13 18:41:03  2022-10-13 19:26:18   \n",
       "\n",
       "          start_station_name start_station_id  \\\n",
       "0   Noble St & Milwaukee Ave            13290   \n",
       "1  Damen Ave & Charleston St            13288   \n",
       "2   Hoyne Ave & Balmoral Ave              655   \n",
       "3         Rush St & Cedar St     KA1504000133   \n",
       "4          900 W Harrison St            13028   \n",
       "\n",
       "                       end_station_name end_station_id  start_lat  start_lng  \\\n",
       "0             Larrabee St & Division St   KA1504000079  41.900680 -87.662600   \n",
       "1              Damen Ave & Cullerton St          13089  41.920037 -87.677937   \n",
       "2              Western Ave & Leland Ave   TA1307000140  41.979879 -87.681902   \n",
       "3  Orleans St & Chestnut St (NEXT Apts)            620  41.902274 -87.627692   \n",
       "4                     Adler Planetarium          13431  41.874754 -87.649807   \n",
       "\n",
       "     end_lat    end_lng member_casual  \n",
       "0  41.903486 -87.643353        member  \n",
       "1  41.854967 -87.675700        casual  \n",
       "2  41.966400 -87.688704        member  \n",
       "3  41.898203 -87.637536        member  \n",
       "4  41.866095 -87.607267        casual  "
      ]
     },
     "execution_count": 9,
     "metadata": {},
     "output_type": "execute_result"
    }
   ],
   "source": [
    "csv_path_202210_tripdata = os.path.join(DATA_PATH,\"202210-divvy-tripdata.csv\")\n",
    "df_202210_tripdata = pd.read_csv(csv_path_202210_tripdata)\n",
    "df_202210_tripdata.head()"
   ]
  },
  {
   "cell_type": "code",
   "execution_count": 10,
   "id": "16e6e572",
   "metadata": {
    "scrolled": true
   },
   "outputs": [
    {
     "name": "stdout",
     "output_type": "stream",
     "text": [
      "<class 'pandas.core.frame.DataFrame'>\n",
      "RangeIndex: 558685 entries, 0 to 558684\n",
      "Data columns (total 13 columns):\n",
      " #   Column              Non-Null Count   Dtype  \n",
      "---  ------              --------------   -----  \n",
      " 0   ride_id             558685 non-null  object \n",
      " 1   rideable_type       558685 non-null  object \n",
      " 2   started_at          558685 non-null  object \n",
      " 3   ended_at            558685 non-null  object \n",
      " 4   start_station_name  467330 non-null  object \n",
      " 5   start_station_id    467330 non-null  object \n",
      " 6   end_station_name    462068 non-null  object \n",
      " 7   end_station_id      462068 non-null  object \n",
      " 8   start_lat           558685 non-null  float64\n",
      " 9   start_lng           558685 non-null  float64\n",
      " 10  end_lat             558210 non-null  float64\n",
      " 11  end_lng             558210 non-null  float64\n",
      " 12  member_casual       558685 non-null  object \n",
      "dtypes: float64(4), object(9)\n",
      "memory usage: 55.4+ MB\n"
     ]
    }
   ],
   "source": [
    "df_202210_tripdata.info()"
   ]
  },
  {
   "cell_type": "markdown",
   "id": "c253a3c0",
   "metadata": {},
   "source": [
    "Now we can agregate the data into a single dataframe. As done above we automate the process needed in order to aggregate each month, this is a good practice which gives the advantage of scalability and reproducibility of our code for other projects. \n",
    "\n",
    "Before aggregation we notice that all the .csv files have a uniform naming of the form `DATETIME-divvy-tripdata.csv` except the one of September, `202209-divvy-publictripdata.csv`,  so we manually rename this file to `202209-divvy-tripdata.csv` before aggregation. "
   ]
  },
  {
   "cell_type": "code",
   "execution_count": 11,
   "id": "8ba3c34b",
   "metadata": {},
   "outputs": [],
   "source": [
    "dataframe_list = []\n",
    "for month in Months:\n",
    "    month_data_csv = month+\"-divvy-tripdata.csv\"\n",
    "    csv_path_tripdata = os.path.join(DATA_PATH, month_data_csv)\n",
    "    df = pd.read_csv(csv_path_tripdata, index_col=None, header=0)\n",
    "    dataframe_list.append(df)\n",
    "\n"
   ]
  },
  {
   "cell_type": "code",
   "execution_count": 12,
   "id": "cff0fbd5",
   "metadata": {},
   "outputs": [],
   "source": [
    "cyclistic_data_frame = pd.concat(dataframe_list, axis=0, ignore_index=True)"
   ]
  },
  {
   "cell_type": "markdown",
   "id": "7741c48c",
   "metadata": {},
   "source": [
    "Now the data for the whole year is contained in the dataframe `cyclistic_data_frame`."
   ]
  },
  {
   "cell_type": "code",
   "execution_count": 13,
   "id": "cd5d5f55",
   "metadata": {
    "scrolled": true
   },
   "outputs": [
    {
     "data": {
      "text/html": [
       "<div>\n",
       "<style scoped>\n",
       "    .dataframe tbody tr th:only-of-type {\n",
       "        vertical-align: middle;\n",
       "    }\n",
       "\n",
       "    .dataframe tbody tr th {\n",
       "        vertical-align: top;\n",
       "    }\n",
       "\n",
       "    .dataframe thead th {\n",
       "        text-align: right;\n",
       "    }\n",
       "</style>\n",
       "<table border=\"1\" class=\"dataframe\">\n",
       "  <thead>\n",
       "    <tr style=\"text-align: right;\">\n",
       "      <th></th>\n",
       "      <th>ride_id</th>\n",
       "      <th>rideable_type</th>\n",
       "      <th>started_at</th>\n",
       "      <th>ended_at</th>\n",
       "      <th>start_station_name</th>\n",
       "      <th>start_station_id</th>\n",
       "      <th>end_station_name</th>\n",
       "      <th>end_station_id</th>\n",
       "      <th>start_lat</th>\n",
       "      <th>start_lng</th>\n",
       "      <th>end_lat</th>\n",
       "      <th>end_lng</th>\n",
       "      <th>member_casual</th>\n",
       "    </tr>\n",
       "  </thead>\n",
       "  <tbody>\n",
       "    <tr>\n",
       "      <th>0</th>\n",
       "      <td>C2F7DD78E82EC875</td>\n",
       "      <td>electric_bike</td>\n",
       "      <td>2022-01-13 11:59:47</td>\n",
       "      <td>2022-01-13 12:02:44</td>\n",
       "      <td>Glenwood Ave &amp; Touhy Ave</td>\n",
       "      <td>525</td>\n",
       "      <td>Clark St &amp; Touhy Ave</td>\n",
       "      <td>RP-007</td>\n",
       "      <td>42.012800</td>\n",
       "      <td>-87.665906</td>\n",
       "      <td>42.012560</td>\n",
       "      <td>-87.674367</td>\n",
       "      <td>casual</td>\n",
       "    </tr>\n",
       "    <tr>\n",
       "      <th>1</th>\n",
       "      <td>A6CF8980A652D272</td>\n",
       "      <td>electric_bike</td>\n",
       "      <td>2022-01-10 08:41:56</td>\n",
       "      <td>2022-01-10 08:46:17</td>\n",
       "      <td>Glenwood Ave &amp; Touhy Ave</td>\n",
       "      <td>525</td>\n",
       "      <td>Clark St &amp; Touhy Ave</td>\n",
       "      <td>RP-007</td>\n",
       "      <td>42.012763</td>\n",
       "      <td>-87.665967</td>\n",
       "      <td>42.012560</td>\n",
       "      <td>-87.674367</td>\n",
       "      <td>casual</td>\n",
       "    </tr>\n",
       "    <tr>\n",
       "      <th>2</th>\n",
       "      <td>BD0F91DFF741C66D</td>\n",
       "      <td>classic_bike</td>\n",
       "      <td>2022-01-25 04:53:40</td>\n",
       "      <td>2022-01-25 04:58:01</td>\n",
       "      <td>Sheffield Ave &amp; Fullerton Ave</td>\n",
       "      <td>TA1306000016</td>\n",
       "      <td>Greenview Ave &amp; Fullerton Ave</td>\n",
       "      <td>TA1307000001</td>\n",
       "      <td>41.925602</td>\n",
       "      <td>-87.653708</td>\n",
       "      <td>41.925330</td>\n",
       "      <td>-87.665800</td>\n",
       "      <td>member</td>\n",
       "    </tr>\n",
       "    <tr>\n",
       "      <th>3</th>\n",
       "      <td>CBB80ED419105406</td>\n",
       "      <td>classic_bike</td>\n",
       "      <td>2022-01-04 00:18:04</td>\n",
       "      <td>2022-01-04 00:33:00</td>\n",
       "      <td>Clark St &amp; Bryn Mawr Ave</td>\n",
       "      <td>KA1504000151</td>\n",
       "      <td>Paulina St &amp; Montrose Ave</td>\n",
       "      <td>TA1309000021</td>\n",
       "      <td>41.983593</td>\n",
       "      <td>-87.669154</td>\n",
       "      <td>41.961507</td>\n",
       "      <td>-87.671387</td>\n",
       "      <td>casual</td>\n",
       "    </tr>\n",
       "    <tr>\n",
       "      <th>4</th>\n",
       "      <td>DDC963BFDDA51EEA</td>\n",
       "      <td>classic_bike</td>\n",
       "      <td>2022-01-20 01:31:10</td>\n",
       "      <td>2022-01-20 01:37:12</td>\n",
       "      <td>Michigan Ave &amp; Jackson Blvd</td>\n",
       "      <td>TA1309000002</td>\n",
       "      <td>State St &amp; Randolph St</td>\n",
       "      <td>TA1305000029</td>\n",
       "      <td>41.877850</td>\n",
       "      <td>-87.624080</td>\n",
       "      <td>41.884621</td>\n",
       "      <td>-87.627834</td>\n",
       "      <td>member</td>\n",
       "    </tr>\n",
       "    <tr>\n",
       "      <th>5</th>\n",
       "      <td>A39C6F6CC0586C0B</td>\n",
       "      <td>classic_bike</td>\n",
       "      <td>2022-01-11 18:48:09</td>\n",
       "      <td>2022-01-11 18:51:31</td>\n",
       "      <td>Wood St &amp; Chicago Ave</td>\n",
       "      <td>637</td>\n",
       "      <td>Honore St &amp; Division St</td>\n",
       "      <td>TA1305000034</td>\n",
       "      <td>41.895634</td>\n",
       "      <td>-87.672069</td>\n",
       "      <td>41.903119</td>\n",
       "      <td>-87.673935</td>\n",
       "      <td>member</td>\n",
       "    </tr>\n",
       "    <tr>\n",
       "      <th>6</th>\n",
       "      <td>BDC4AB637EDF981B</td>\n",
       "      <td>classic_bike</td>\n",
       "      <td>2022-01-30 18:32:52</td>\n",
       "      <td>2022-01-30 18:49:26</td>\n",
       "      <td>Oakley Ave &amp; Irving Park Rd</td>\n",
       "      <td>KA1504000158</td>\n",
       "      <td>Broadway &amp; Sheridan Rd</td>\n",
       "      <td>13323</td>\n",
       "      <td>41.954341</td>\n",
       "      <td>-87.686080</td>\n",
       "      <td>41.952833</td>\n",
       "      <td>-87.649993</td>\n",
       "      <td>member</td>\n",
       "    </tr>\n",
       "    <tr>\n",
       "      <th>7</th>\n",
       "      <td>81751A3186E59A6B</td>\n",
       "      <td>classic_bike</td>\n",
       "      <td>2022-01-22 12:20:02</td>\n",
       "      <td>2022-01-22 12:32:06</td>\n",
       "      <td>Sheffield Ave &amp; Fullerton Ave</td>\n",
       "      <td>TA1306000016</td>\n",
       "      <td>Damen Ave &amp; Clybourn Ave</td>\n",
       "      <td>13271</td>\n",
       "      <td>41.925602</td>\n",
       "      <td>-87.653708</td>\n",
       "      <td>41.931931</td>\n",
       "      <td>-87.677856</td>\n",
       "      <td>member</td>\n",
       "    </tr>\n",
       "    <tr>\n",
       "      <th>8</th>\n",
       "      <td>154222B86A338ABD</td>\n",
       "      <td>electric_bike</td>\n",
       "      <td>2022-01-17 07:34:41</td>\n",
       "      <td>2022-01-17 08:00:08</td>\n",
       "      <td>Racine Ave &amp; 15th St</td>\n",
       "      <td>13304</td>\n",
       "      <td>Clinton St &amp; Washington Blvd</td>\n",
       "      <td>WL-012</td>\n",
       "      <td>41.861251</td>\n",
       "      <td>-87.656500</td>\n",
       "      <td>41.883380</td>\n",
       "      <td>-87.641170</td>\n",
       "      <td>member</td>\n",
       "    </tr>\n",
       "    <tr>\n",
       "      <th>9</th>\n",
       "      <td>72DC25B2DD467EEF</td>\n",
       "      <td>classic_bike</td>\n",
       "      <td>2022-01-28 15:27:53</td>\n",
       "      <td>2022-01-28 15:35:16</td>\n",
       "      <td>LaSalle St &amp; Jackson Blvd</td>\n",
       "      <td>TA1309000004</td>\n",
       "      <td>Clinton St &amp; Washington Blvd</td>\n",
       "      <td>WL-012</td>\n",
       "      <td>41.878166</td>\n",
       "      <td>-87.631929</td>\n",
       "      <td>41.883380</td>\n",
       "      <td>-87.641170</td>\n",
       "      <td>member</td>\n",
       "    </tr>\n",
       "  </tbody>\n",
       "</table>\n",
       "</div>"
      ],
      "text/plain": [
       "            ride_id  rideable_type           started_at             ended_at  \\\n",
       "0  C2F7DD78E82EC875  electric_bike  2022-01-13 11:59:47  2022-01-13 12:02:44   \n",
       "1  A6CF8980A652D272  electric_bike  2022-01-10 08:41:56  2022-01-10 08:46:17   \n",
       "2  BD0F91DFF741C66D   classic_bike  2022-01-25 04:53:40  2022-01-25 04:58:01   \n",
       "3  CBB80ED419105406   classic_bike  2022-01-04 00:18:04  2022-01-04 00:33:00   \n",
       "4  DDC963BFDDA51EEA   classic_bike  2022-01-20 01:31:10  2022-01-20 01:37:12   \n",
       "5  A39C6F6CC0586C0B   classic_bike  2022-01-11 18:48:09  2022-01-11 18:51:31   \n",
       "6  BDC4AB637EDF981B   classic_bike  2022-01-30 18:32:52  2022-01-30 18:49:26   \n",
       "7  81751A3186E59A6B   classic_bike  2022-01-22 12:20:02  2022-01-22 12:32:06   \n",
       "8  154222B86A338ABD  electric_bike  2022-01-17 07:34:41  2022-01-17 08:00:08   \n",
       "9  72DC25B2DD467EEF   classic_bike  2022-01-28 15:27:53  2022-01-28 15:35:16   \n",
       "\n",
       "              start_station_name start_station_id  \\\n",
       "0       Glenwood Ave & Touhy Ave              525   \n",
       "1       Glenwood Ave & Touhy Ave              525   \n",
       "2  Sheffield Ave & Fullerton Ave     TA1306000016   \n",
       "3       Clark St & Bryn Mawr Ave     KA1504000151   \n",
       "4    Michigan Ave & Jackson Blvd     TA1309000002   \n",
       "5          Wood St & Chicago Ave              637   \n",
       "6    Oakley Ave & Irving Park Rd     KA1504000158   \n",
       "7  Sheffield Ave & Fullerton Ave     TA1306000016   \n",
       "8           Racine Ave & 15th St            13304   \n",
       "9      LaSalle St & Jackson Blvd     TA1309000004   \n",
       "\n",
       "                end_station_name end_station_id  start_lat  start_lng  \\\n",
       "0           Clark St & Touhy Ave         RP-007  42.012800 -87.665906   \n",
       "1           Clark St & Touhy Ave         RP-007  42.012763 -87.665967   \n",
       "2  Greenview Ave & Fullerton Ave   TA1307000001  41.925602 -87.653708   \n",
       "3      Paulina St & Montrose Ave   TA1309000021  41.983593 -87.669154   \n",
       "4         State St & Randolph St   TA1305000029  41.877850 -87.624080   \n",
       "5        Honore St & Division St   TA1305000034  41.895634 -87.672069   \n",
       "6         Broadway & Sheridan Rd          13323  41.954341 -87.686080   \n",
       "7       Damen Ave & Clybourn Ave          13271  41.925602 -87.653708   \n",
       "8   Clinton St & Washington Blvd         WL-012  41.861251 -87.656500   \n",
       "9   Clinton St & Washington Blvd         WL-012  41.878166 -87.631929   \n",
       "\n",
       "     end_lat    end_lng member_casual  \n",
       "0  42.012560 -87.674367        casual  \n",
       "1  42.012560 -87.674367        casual  \n",
       "2  41.925330 -87.665800        member  \n",
       "3  41.961507 -87.671387        casual  \n",
       "4  41.884621 -87.627834        member  \n",
       "5  41.903119 -87.673935        member  \n",
       "6  41.952833 -87.649993        member  \n",
       "7  41.931931 -87.677856        member  \n",
       "8  41.883380 -87.641170        member  \n",
       "9  41.883380 -87.641170        member  "
      ]
     },
     "execution_count": 13,
     "metadata": {},
     "output_type": "execute_result"
    }
   ],
   "source": [
    "# First n rows of the dataframe\n",
    "n = 10\n",
    "cyclistic_data_frame.head(n)"
   ]
  },
  {
   "cell_type": "code",
   "execution_count": 14,
   "id": "dc47b400",
   "metadata": {
    "scrolled": true
   },
   "outputs": [
    {
     "name": "stdout",
     "output_type": "stream",
     "text": [
      "<class 'pandas.core.frame.DataFrame'>\n",
      "RangeIndex: 5667717 entries, 0 to 5667716\n",
      "Data columns (total 13 columns):\n",
      " #   Column              Non-Null Count    Dtype  \n",
      "---  ------              --------------    -----  \n",
      " 0   ride_id             5667717 non-null  object \n",
      " 1   rideable_type       5667717 non-null  object \n",
      " 2   started_at          5667717 non-null  object \n",
      " 3   ended_at            5667717 non-null  object \n",
      " 4   start_station_name  4834653 non-null  object \n",
      " 5   start_station_id    4834653 non-null  object \n",
      " 6   end_station_name    4774975 non-null  object \n",
      " 7   end_station_id      4774975 non-null  object \n",
      " 8   start_lat           5667717 non-null  float64\n",
      " 9   start_lng           5667717 non-null  float64\n",
      " 10  end_lat             5661859 non-null  float64\n",
      " 11  end_lng             5661859 non-null  float64\n",
      " 12  member_casual       5667717 non-null  object \n",
      "dtypes: float64(4), object(9)\n",
      "memory usage: 562.1+ MB\n"
     ]
    }
   ],
   "source": [
    "# Metadata of the dataframe\n",
    "cyclistic_data_frame.info(show_counts=True)"
   ]
  },
  {
   "cell_type": "markdown",
   "id": "16fffc66",
   "metadata": {},
   "source": [
    "### About our data\n",
    "\n",
    "The data has been dowloaded from [divvy-tripdata](https://divvy-tripdata.s3.amazonaws.com/index.html) and its ussage falls within the data license agreement descrived [here](https://ride.divvybikes.com/data-license-agreement).\n",
    "\n",
    "We have aggregated the data into a single data frame. In the process we also created a folder where the .csv files with the data of each month are stored. \n",
    "\n",
    "A first look at the information from the data frame reveals that there are values missing in certain fields. Also some of the fields (e.g. those containing dates) should be formatted so that we can work with these. Finally, it is desirable to include new fields (e.g. duration of each trip)."
   ]
  },
  {
   "cell_type": "markdown",
   "id": "cc980471",
   "metadata": {},
   "source": [
    "## 3. Process\n",
    "\n",
    "In the third stage of our project we will process the data. Our goal is to ensure  the data is clean and transform it so that we can effectively work with it. In the process we will learn more about our dataset. "
   ]
  },
  {
   "cell_type": "markdown",
   "id": "a9de050b",
   "metadata": {},
   "source": [
    "### Dealing with missing values\n",
    "\n",
    "One of the initial tasks in any data cleaning process consists in identifying and dealing with missing values in the data. In our case by applying the `info` method to the dataframe we can identify which columns have missing values, these are:`start_station_name`, `start_station_id`, `end_station_name`, `end_station_id`, `start_lat`, `start_lng`,  `end_lat` and `end_lng`. From these the first four have the most missing values, these values refer to the names and id's of the stations and will not be used in the analysis so we can drop the columns altogether. As for the other columns with missing values these contain the coordinates, longitude and latitude, of the starting and end stations of each trip. This is valuable information. Since the number of records for which the information is missing is small relative to the size of the dataset we can deal with the missing values by dropping the corresponding rows in the dataframe.  "
   ]
  },
  {
   "cell_type": "code",
   "execution_count": 15,
   "id": "bbbf5dd5",
   "metadata": {},
   "outputs": [],
   "source": [
    "# Drop columns with missing values\n",
    "cyclistic_data_frame.drop(['start_station_name', 'start_station_id', 'end_station_name', 'end_station_id'], axis=1, inplace=True)"
   ]
  },
  {
   "cell_type": "code",
   "execution_count": 16,
   "id": "fcfdd4c9",
   "metadata": {},
   "outputs": [],
   "source": [
    "# Drop rows with missing values \n",
    "cyclistic_data_frame.dropna(axis=0, inplace=True)"
   ]
  },
  {
   "cell_type": "code",
   "execution_count": 17,
   "id": "2e4eef02",
   "metadata": {},
   "outputs": [
    {
     "data": {
      "text/html": [
       "<div>\n",
       "<style scoped>\n",
       "    .dataframe tbody tr th:only-of-type {\n",
       "        vertical-align: middle;\n",
       "    }\n",
       "\n",
       "    .dataframe tbody tr th {\n",
       "        vertical-align: top;\n",
       "    }\n",
       "\n",
       "    .dataframe thead th {\n",
       "        text-align: right;\n",
       "    }\n",
       "</style>\n",
       "<table border=\"1\" class=\"dataframe\">\n",
       "  <thead>\n",
       "    <tr style=\"text-align: right;\">\n",
       "      <th></th>\n",
       "      <th>ride_id</th>\n",
       "      <th>rideable_type</th>\n",
       "      <th>started_at</th>\n",
       "      <th>ended_at</th>\n",
       "      <th>start_lat</th>\n",
       "      <th>start_lng</th>\n",
       "      <th>end_lat</th>\n",
       "      <th>end_lng</th>\n",
       "      <th>member_casual</th>\n",
       "    </tr>\n",
       "  </thead>\n",
       "  <tbody>\n",
       "    <tr>\n",
       "      <th>0</th>\n",
       "      <td>C2F7DD78E82EC875</td>\n",
       "      <td>electric_bike</td>\n",
       "      <td>2022-01-13 11:59:47</td>\n",
       "      <td>2022-01-13 12:02:44</td>\n",
       "      <td>42.012800</td>\n",
       "      <td>-87.665906</td>\n",
       "      <td>42.012560</td>\n",
       "      <td>-87.674367</td>\n",
       "      <td>casual</td>\n",
       "    </tr>\n",
       "    <tr>\n",
       "      <th>1</th>\n",
       "      <td>A6CF8980A652D272</td>\n",
       "      <td>electric_bike</td>\n",
       "      <td>2022-01-10 08:41:56</td>\n",
       "      <td>2022-01-10 08:46:17</td>\n",
       "      <td>42.012763</td>\n",
       "      <td>-87.665967</td>\n",
       "      <td>42.012560</td>\n",
       "      <td>-87.674367</td>\n",
       "      <td>casual</td>\n",
       "    </tr>\n",
       "    <tr>\n",
       "      <th>2</th>\n",
       "      <td>BD0F91DFF741C66D</td>\n",
       "      <td>classic_bike</td>\n",
       "      <td>2022-01-25 04:53:40</td>\n",
       "      <td>2022-01-25 04:58:01</td>\n",
       "      <td>41.925602</td>\n",
       "      <td>-87.653708</td>\n",
       "      <td>41.925330</td>\n",
       "      <td>-87.665800</td>\n",
       "      <td>member</td>\n",
       "    </tr>\n",
       "    <tr>\n",
       "      <th>3</th>\n",
       "      <td>CBB80ED419105406</td>\n",
       "      <td>classic_bike</td>\n",
       "      <td>2022-01-04 00:18:04</td>\n",
       "      <td>2022-01-04 00:33:00</td>\n",
       "      <td>41.983593</td>\n",
       "      <td>-87.669154</td>\n",
       "      <td>41.961507</td>\n",
       "      <td>-87.671387</td>\n",
       "      <td>casual</td>\n",
       "    </tr>\n",
       "    <tr>\n",
       "      <th>4</th>\n",
       "      <td>DDC963BFDDA51EEA</td>\n",
       "      <td>classic_bike</td>\n",
       "      <td>2022-01-20 01:31:10</td>\n",
       "      <td>2022-01-20 01:37:12</td>\n",
       "      <td>41.877850</td>\n",
       "      <td>-87.624080</td>\n",
       "      <td>41.884621</td>\n",
       "      <td>-87.627834</td>\n",
       "      <td>member</td>\n",
       "    </tr>\n",
       "    <tr>\n",
       "      <th>...</th>\n",
       "      <td>...</td>\n",
       "      <td>...</td>\n",
       "      <td>...</td>\n",
       "      <td>...</td>\n",
       "      <td>...</td>\n",
       "      <td>...</td>\n",
       "      <td>...</td>\n",
       "      <td>...</td>\n",
       "      <td>...</td>\n",
       "    </tr>\n",
       "    <tr>\n",
       "      <th>5661854</th>\n",
       "      <td>43ABEE85B6E15DCA</td>\n",
       "      <td>classic_bike</td>\n",
       "      <td>2022-12-05 06:51:04</td>\n",
       "      <td>2022-12-05 06:54:48</td>\n",
       "      <td>41.883165</td>\n",
       "      <td>-87.651100</td>\n",
       "      <td>41.877642</td>\n",
       "      <td>-87.649618</td>\n",
       "      <td>member</td>\n",
       "    </tr>\n",
       "    <tr>\n",
       "      <th>5661855</th>\n",
       "      <td>F041C89A3D1F0270</td>\n",
       "      <td>electric_bike</td>\n",
       "      <td>2022-12-14 17:06:28</td>\n",
       "      <td>2022-12-14 17:19:27</td>\n",
       "      <td>41.949980</td>\n",
       "      <td>-87.714019</td>\n",
       "      <td>41.943403</td>\n",
       "      <td>-87.679618</td>\n",
       "      <td>member</td>\n",
       "    </tr>\n",
       "    <tr>\n",
       "      <th>5661856</th>\n",
       "      <td>A2BECB88430BE156</td>\n",
       "      <td>classic_bike</td>\n",
       "      <td>2022-12-08 16:27:47</td>\n",
       "      <td>2022-12-08 16:32:20</td>\n",
       "      <td>41.883143</td>\n",
       "      <td>-87.637242</td>\n",
       "      <td>41.881859</td>\n",
       "      <td>-87.649264</td>\n",
       "      <td>member</td>\n",
       "    </tr>\n",
       "    <tr>\n",
       "      <th>5661857</th>\n",
       "      <td>37B392960E566F58</td>\n",
       "      <td>classic_bike</td>\n",
       "      <td>2022-12-28 09:37:38</td>\n",
       "      <td>2022-12-28 09:41:34</td>\n",
       "      <td>41.883165</td>\n",
       "      <td>-87.651100</td>\n",
       "      <td>41.877642</td>\n",
       "      <td>-87.649618</td>\n",
       "      <td>member</td>\n",
       "    </tr>\n",
       "    <tr>\n",
       "      <th>5661858</th>\n",
       "      <td>2DD1587210BA45AE</td>\n",
       "      <td>classic_bike</td>\n",
       "      <td>2022-12-09 00:27:25</td>\n",
       "      <td>2022-12-09 00:35:28</td>\n",
       "      <td>41.948150</td>\n",
       "      <td>-87.663940</td>\n",
       "      <td>41.943403</td>\n",
       "      <td>-87.679618</td>\n",
       "      <td>casual</td>\n",
       "    </tr>\n",
       "  </tbody>\n",
       "</table>\n",
       "<p>5661859 rows × 9 columns</p>\n",
       "</div>"
      ],
      "text/plain": [
       "                  ride_id  rideable_type           started_at  \\\n",
       "0        C2F7DD78E82EC875  electric_bike  2022-01-13 11:59:47   \n",
       "1        A6CF8980A652D272  electric_bike  2022-01-10 08:41:56   \n",
       "2        BD0F91DFF741C66D   classic_bike  2022-01-25 04:53:40   \n",
       "3        CBB80ED419105406   classic_bike  2022-01-04 00:18:04   \n",
       "4        DDC963BFDDA51EEA   classic_bike  2022-01-20 01:31:10   \n",
       "...                   ...            ...                  ...   \n",
       "5661854  43ABEE85B6E15DCA   classic_bike  2022-12-05 06:51:04   \n",
       "5661855  F041C89A3D1F0270  electric_bike  2022-12-14 17:06:28   \n",
       "5661856  A2BECB88430BE156   classic_bike  2022-12-08 16:27:47   \n",
       "5661857  37B392960E566F58   classic_bike  2022-12-28 09:37:38   \n",
       "5661858  2DD1587210BA45AE   classic_bike  2022-12-09 00:27:25   \n",
       "\n",
       "                    ended_at  start_lat  start_lng    end_lat    end_lng  \\\n",
       "0        2022-01-13 12:02:44  42.012800 -87.665906  42.012560 -87.674367   \n",
       "1        2022-01-10 08:46:17  42.012763 -87.665967  42.012560 -87.674367   \n",
       "2        2022-01-25 04:58:01  41.925602 -87.653708  41.925330 -87.665800   \n",
       "3        2022-01-04 00:33:00  41.983593 -87.669154  41.961507 -87.671387   \n",
       "4        2022-01-20 01:37:12  41.877850 -87.624080  41.884621 -87.627834   \n",
       "...                      ...        ...        ...        ...        ...   \n",
       "5661854  2022-12-05 06:54:48  41.883165 -87.651100  41.877642 -87.649618   \n",
       "5661855  2022-12-14 17:19:27  41.949980 -87.714019  41.943403 -87.679618   \n",
       "5661856  2022-12-08 16:32:20  41.883143 -87.637242  41.881859 -87.649264   \n",
       "5661857  2022-12-28 09:41:34  41.883165 -87.651100  41.877642 -87.649618   \n",
       "5661858  2022-12-09 00:35:28  41.948150 -87.663940  41.943403 -87.679618   \n",
       "\n",
       "        member_casual  \n",
       "0              casual  \n",
       "1              casual  \n",
       "2              member  \n",
       "3              casual  \n",
       "4              member  \n",
       "...               ...  \n",
       "5661854        member  \n",
       "5661855        member  \n",
       "5661856        member  \n",
       "5661857        member  \n",
       "5661858        casual  \n",
       "\n",
       "[5661859 rows x 9 columns]"
      ]
     },
     "execution_count": 17,
     "metadata": {},
     "output_type": "execute_result"
    }
   ],
   "source": [
    "cyclistic_data_frame.reset_index(drop=True)"
   ]
  },
  {
   "cell_type": "code",
   "execution_count": 18,
   "id": "af4e7e89",
   "metadata": {
    "scrolled": true
   },
   "outputs": [
    {
     "name": "stdout",
     "output_type": "stream",
     "text": [
      "<class 'pandas.core.frame.DataFrame'>\n",
      "Int64Index: 5661859 entries, 0 to 5667716\n",
      "Data columns (total 9 columns):\n",
      " #   Column         Non-Null Count    Dtype  \n",
      "---  ------         --------------    -----  \n",
      " 0   ride_id        5661859 non-null  object \n",
      " 1   rideable_type  5661859 non-null  object \n",
      " 2   started_at     5661859 non-null  object \n",
      " 3   ended_at       5661859 non-null  object \n",
      " 4   start_lat      5661859 non-null  float64\n",
      " 5   start_lng      5661859 non-null  float64\n",
      " 6   end_lat        5661859 non-null  float64\n",
      " 7   end_lng        5661859 non-null  float64\n",
      " 8   member_casual  5661859 non-null  object \n",
      "dtypes: float64(4), object(5)\n",
      "memory usage: 432.0+ MB\n"
     ]
    }
   ],
   "source": [
    "cyclistic_data_frame.info(show_counts=True)"
   ]
  },
  {
   "cell_type": "markdown",
   "id": "f32844f5",
   "metadata": {},
   "source": [
    "The new datframe has no missing values and only contains information pertienent for our analysis. "
   ]
  },
  {
   "cell_type": "markdown",
   "id": "4fe6a872",
   "metadata": {},
   "source": [
    "### Checking and formatting data types\n",
    "\n",
    "Another common data cleaning task consist on converting the data to the appropriate type. In our case the columns `started_at` and `ended_at`, containing the information on the date and time of the start/end of each trip, are formatted as strings. For manipulation we will change their format to **datetime** format.  "
   ]
  },
  {
   "cell_type": "code",
   "execution_count": 19,
   "id": "42644fbc",
   "metadata": {},
   "outputs": [],
   "source": [
    "cyclistic_data_frame[['started_at']] = cyclistic_data_frame[['started_at']].apply(pd.to_datetime)\n",
    "cyclistic_data_frame[['ended_at']] = cyclistic_data_frame[['ended_at']].apply(pd.to_datetime)"
   ]
  },
  {
   "cell_type": "code",
   "execution_count": 20,
   "id": "2b9fc6d5",
   "metadata": {
    "scrolled": false
   },
   "outputs": [
    {
     "name": "stdout",
     "output_type": "stream",
     "text": [
      "<class 'pandas.core.frame.DataFrame'>\n",
      "Int64Index: 5661859 entries, 0 to 5667716\n",
      "Data columns (total 9 columns):\n",
      " #   Column         Non-Null Count    Dtype         \n",
      "---  ------         --------------    -----         \n",
      " 0   ride_id        5661859 non-null  object        \n",
      " 1   rideable_type  5661859 non-null  object        \n",
      " 2   started_at     5661859 non-null  datetime64[ns]\n",
      " 3   ended_at       5661859 non-null  datetime64[ns]\n",
      " 4   start_lat      5661859 non-null  float64       \n",
      " 5   start_lng      5661859 non-null  float64       \n",
      " 6   end_lat        5661859 non-null  float64       \n",
      " 7   end_lng        5661859 non-null  float64       \n",
      " 8   member_casual  5661859 non-null  object        \n",
      "dtypes: datetime64[ns](2), float64(4), object(3)\n",
      "memory usage: 432.0+ MB\n"
     ]
    }
   ],
   "source": [
    "# We can now check the new data types\n",
    "cyclistic_data_frame.info(show_counts=True)"
   ]
  },
  {
   "cell_type": "markdown",
   "id": "93b1198b",
   "metadata": {},
   "source": [
    "### Defining new features\n",
    "\n",
    "In order to carry our analysis it is desirable to add to our dataframe columns corresponding to the duration of each trip and the distance between the starting station and end station. We can compute these directly from our dataframe. "
   ]
  },
  {
   "cell_type": "markdown",
   "id": "a9499076",
   "metadata": {},
   "source": [
    "**trip_duration**\n",
    "\n",
    "We compute the trip duration as the difference between the `starting_at` and `ending_at` fields. The result is then converted to seconds and included in a new column `trip_duration`."
   ]
  },
  {
   "cell_type": "code",
   "execution_count": 21,
   "id": "b1fd8825",
   "metadata": {},
   "outputs": [],
   "source": [
    "cyclistic_data_frame['trip_duration'] = cyclistic_data_frame['ended_at'] - cyclistic_data_frame['started_at']\n",
    "cyclistic_data_frame['trip_duration'] = cyclistic_data_frame['trip_duration'].dt.total_seconds()"
   ]
  },
  {
   "cell_type": "markdown",
   "id": "790c9409",
   "metadata": {},
   "source": [
    "**dist_btw_stations** \n",
    "\n",
    "We compute the distance between the starting station and the end station of each trip using the values for their latitude and longitude. These are geographical coordinates and we use them to compute the geodesic distance between the stations. We assign the distance measured in kilometers to a new column  `dist_btw_stations`.\n",
    "\n",
    "It is important to note that the distance between the stations where each trip begins and ends does no necessarily reflect the distance traveled by a user. In particular, if a bike is returned to the same station where it was picked up this distance will be zero independently of the distance traveled by the user. "
   ]
  },
  {
   "cell_type": "code",
   "execution_count": 22,
   "id": "44cbbb58",
   "metadata": {
    "scrolled": true
   },
   "outputs": [
    {
     "name": "stdout",
     "output_type": "stream",
     "text": [
      "Requirement already satisfied: geopy in /home/jorge/anaconda3/lib/python3.9/site-packages (2.3.0)\n",
      "Requirement already satisfied: geographiclib<3,>=1.52 in /home/jorge/anaconda3/lib/python3.9/site-packages (from geopy) (2.0)\n"
     ]
    }
   ],
   "source": [
    "!pip install geopy"
   ]
  },
  {
   "cell_type": "code",
   "execution_count": 23,
   "id": "b5b7ea2c",
   "metadata": {},
   "outputs": [],
   "source": [
    "from geopy.distance import geodesic"
   ]
  },
  {
   "cell_type": "code",
   "execution_count": 24,
   "id": "dcbd5e85",
   "metadata": {},
   "outputs": [
    {
     "name": "stdout",
     "output_type": "stream",
     "text": [
      "0.7013678945000444\n"
     ]
    }
   ],
   "source": [
    "print(geodesic((42.012800, -87.665906), (42.012560, -87.674367)).km)"
   ]
  },
  {
   "cell_type": "code",
   "execution_count": 25,
   "id": "50374445",
   "metadata": {},
   "outputs": [],
   "source": [
    "# First we create a list with the distances\n",
    "n= len(cyclistic_data_frame.index) \n",
    "dist_list=[]\n",
    "for i in range(n):\n",
    "    distance = geodesic((cyclistic_data_frame.iloc[i]['start_lat'], cyclistic_data_frame.iloc[i]['start_lng']),(cyclistic_data_frame.iloc[i]['end_lat'], cyclistic_data_frame.iloc[i]['end_lng'])).km\n",
    "    dist_list.append(distance)"
   ]
  },
  {
   "cell_type": "code",
   "execution_count": 26,
   "id": "333ac419",
   "metadata": {},
   "outputs": [],
   "source": [
    "cyclistic_data_frame['dist_btw_stations'] = dist_list"
   ]
  },
  {
   "cell_type": "markdown",
   "id": "4e0450c2",
   "metadata": {},
   "source": [
    "## Final data frame\n",
    "\n",
    "We have transformed our dataset into a data frame which conforms to the needs of the project. This is a good moment to save a copy of it both for back up purposes and as an entry point into our change-log. We also show the metadata of the dataframe usinfg the `info` method and its first rows using `head`. \n",
    "\n"
   ]
  },
  {
   "cell_type": "code",
   "execution_count": 27,
   "id": "2734ef44",
   "metadata": {},
   "outputs": [],
   "source": [
    "cyclistic_data_frame_copy = cyclistic_data_frame"
   ]
  },
  {
   "cell_type": "code",
   "execution_count": 28,
   "id": "c8e4e1d5",
   "metadata": {},
   "outputs": [],
   "source": [
    "cyclistic_data_frame_copy.to_csv('cyclistic_csv_data.csv',  index = True)"
   ]
  },
  {
   "cell_type": "code",
   "execution_count": 29,
   "id": "fc489bcd",
   "metadata": {
    "scrolled": false
   },
   "outputs": [
    {
     "name": "stdout",
     "output_type": "stream",
     "text": [
      "<class 'pandas.core.frame.DataFrame'>\n",
      "Int64Index: 5661859 entries, 0 to 5667716\n",
      "Data columns (total 11 columns):\n",
      " #   Column             Non-Null Count    Dtype         \n",
      "---  ------             --------------    -----         \n",
      " 0   ride_id            5661859 non-null  object        \n",
      " 1   rideable_type      5661859 non-null  object        \n",
      " 2   started_at         5661859 non-null  datetime64[ns]\n",
      " 3   ended_at           5661859 non-null  datetime64[ns]\n",
      " 4   start_lat          5661859 non-null  float64       \n",
      " 5   start_lng          5661859 non-null  float64       \n",
      " 6   end_lat            5661859 non-null  float64       \n",
      " 7   end_lng            5661859 non-null  float64       \n",
      " 8   member_casual      5661859 non-null  object        \n",
      " 9   trip_duration      5661859 non-null  float64       \n",
      " 10  dist_btw_stations  5661859 non-null  float64       \n",
      "dtypes: datetime64[ns](2), float64(6), object(3)\n",
      "memory usage: 518.4+ MB\n"
     ]
    }
   ],
   "source": [
    "cyclistic_data_frame.info(show_counts=True)"
   ]
  },
  {
   "cell_type": "code",
   "execution_count": 30,
   "id": "1a1a5cbb",
   "metadata": {
    "scrolled": true
   },
   "outputs": [
    {
     "data": {
      "text/html": [
       "<div>\n",
       "<style scoped>\n",
       "    .dataframe tbody tr th:only-of-type {\n",
       "        vertical-align: middle;\n",
       "    }\n",
       "\n",
       "    .dataframe tbody tr th {\n",
       "        vertical-align: top;\n",
       "    }\n",
       "\n",
       "    .dataframe thead th {\n",
       "        text-align: right;\n",
       "    }\n",
       "</style>\n",
       "<table border=\"1\" class=\"dataframe\">\n",
       "  <thead>\n",
       "    <tr style=\"text-align: right;\">\n",
       "      <th></th>\n",
       "      <th>ride_id</th>\n",
       "      <th>rideable_type</th>\n",
       "      <th>started_at</th>\n",
       "      <th>ended_at</th>\n",
       "      <th>start_lat</th>\n",
       "      <th>start_lng</th>\n",
       "      <th>end_lat</th>\n",
       "      <th>end_lng</th>\n",
       "      <th>member_casual</th>\n",
       "      <th>trip_duration</th>\n",
       "      <th>dist_btw_stations</th>\n",
       "    </tr>\n",
       "  </thead>\n",
       "  <tbody>\n",
       "    <tr>\n",
       "      <th>0</th>\n",
       "      <td>C2F7DD78E82EC875</td>\n",
       "      <td>electric_bike</td>\n",
       "      <td>2022-01-13 11:59:47</td>\n",
       "      <td>2022-01-13 12:02:44</td>\n",
       "      <td>42.012800</td>\n",
       "      <td>-87.665906</td>\n",
       "      <td>42.012560</td>\n",
       "      <td>-87.674367</td>\n",
       "      <td>casual</td>\n",
       "      <td>177.0</td>\n",
       "      <td>0.701379</td>\n",
       "    </tr>\n",
       "    <tr>\n",
       "      <th>1</th>\n",
       "      <td>A6CF8980A652D272</td>\n",
       "      <td>electric_bike</td>\n",
       "      <td>2022-01-10 08:41:56</td>\n",
       "      <td>2022-01-10 08:46:17</td>\n",
       "      <td>42.012763</td>\n",
       "      <td>-87.665967</td>\n",
       "      <td>42.012560</td>\n",
       "      <td>-87.674367</td>\n",
       "      <td>casual</td>\n",
       "      <td>261.0</td>\n",
       "      <td>0.696141</td>\n",
       "    </tr>\n",
       "    <tr>\n",
       "      <th>2</th>\n",
       "      <td>BD0F91DFF741C66D</td>\n",
       "      <td>classic_bike</td>\n",
       "      <td>2022-01-25 04:53:40</td>\n",
       "      <td>2022-01-25 04:58:01</td>\n",
       "      <td>41.925602</td>\n",
       "      <td>-87.653708</td>\n",
       "      <td>41.925330</td>\n",
       "      <td>-87.665800</td>\n",
       "      <td>member</td>\n",
       "      <td>261.0</td>\n",
       "      <td>1.003451</td>\n",
       "    </tr>\n",
       "    <tr>\n",
       "      <th>3</th>\n",
       "      <td>CBB80ED419105406</td>\n",
       "      <td>classic_bike</td>\n",
       "      <td>2022-01-04 00:18:04</td>\n",
       "      <td>2022-01-04 00:33:00</td>\n",
       "      <td>41.983593</td>\n",
       "      <td>-87.669154</td>\n",
       "      <td>41.961507</td>\n",
       "      <td>-87.671387</td>\n",
       "      <td>casual</td>\n",
       "      <td>896.0</td>\n",
       "      <td>2.460125</td>\n",
       "    </tr>\n",
       "    <tr>\n",
       "      <th>4</th>\n",
       "      <td>DDC963BFDDA51EEA</td>\n",
       "      <td>classic_bike</td>\n",
       "      <td>2022-01-20 01:31:10</td>\n",
       "      <td>2022-01-20 01:37:12</td>\n",
       "      <td>41.877850</td>\n",
       "      <td>-87.624080</td>\n",
       "      <td>41.884621</td>\n",
       "      <td>-87.627834</td>\n",
       "      <td>member</td>\n",
       "      <td>362.0</td>\n",
       "      <td>0.814073</td>\n",
       "    </tr>\n",
       "    <tr>\n",
       "      <th>5</th>\n",
       "      <td>A39C6F6CC0586C0B</td>\n",
       "      <td>classic_bike</td>\n",
       "      <td>2022-01-11 18:48:09</td>\n",
       "      <td>2022-01-11 18:51:31</td>\n",
       "      <td>41.895634</td>\n",
       "      <td>-87.672069</td>\n",
       "      <td>41.903119</td>\n",
       "      <td>-87.673935</td>\n",
       "      <td>member</td>\n",
       "      <td>202.0</td>\n",
       "      <td>0.845666</td>\n",
       "    </tr>\n",
       "    <tr>\n",
       "      <th>6</th>\n",
       "      <td>BDC4AB637EDF981B</td>\n",
       "      <td>classic_bike</td>\n",
       "      <td>2022-01-30 18:32:52</td>\n",
       "      <td>2022-01-30 18:49:26</td>\n",
       "      <td>41.954341</td>\n",
       "      <td>-87.686080</td>\n",
       "      <td>41.952833</td>\n",
       "      <td>-87.649993</td>\n",
       "      <td>member</td>\n",
       "      <td>994.0</td>\n",
       "      <td>2.996660</td>\n",
       "    </tr>\n",
       "    <tr>\n",
       "      <th>7</th>\n",
       "      <td>81751A3186E59A6B</td>\n",
       "      <td>classic_bike</td>\n",
       "      <td>2022-01-22 12:20:02</td>\n",
       "      <td>2022-01-22 12:32:06</td>\n",
       "      <td>41.925602</td>\n",
       "      <td>-87.653708</td>\n",
       "      <td>41.931931</td>\n",
       "      <td>-87.677856</td>\n",
       "      <td>member</td>\n",
       "      <td>724.0</td>\n",
       "      <td>2.122693</td>\n",
       "    </tr>\n",
       "    <tr>\n",
       "      <th>8</th>\n",
       "      <td>154222B86A338ABD</td>\n",
       "      <td>electric_bike</td>\n",
       "      <td>2022-01-17 07:34:41</td>\n",
       "      <td>2022-01-17 08:00:08</td>\n",
       "      <td>41.861251</td>\n",
       "      <td>-87.656500</td>\n",
       "      <td>41.883380</td>\n",
       "      <td>-87.641170</td>\n",
       "      <td>member</td>\n",
       "      <td>1527.0</td>\n",
       "      <td>2.767790</td>\n",
       "    </tr>\n",
       "    <tr>\n",
       "      <th>9</th>\n",
       "      <td>72DC25B2DD467EEF</td>\n",
       "      <td>classic_bike</td>\n",
       "      <td>2022-01-28 15:27:53</td>\n",
       "      <td>2022-01-28 15:35:16</td>\n",
       "      <td>41.878166</td>\n",
       "      <td>-87.631929</td>\n",
       "      <td>41.883380</td>\n",
       "      <td>-87.641170</td>\n",
       "      <td>member</td>\n",
       "      <td>443.0</td>\n",
       "      <td>0.961120</td>\n",
       "    </tr>\n",
       "  </tbody>\n",
       "</table>\n",
       "</div>"
      ],
      "text/plain": [
       "            ride_id  rideable_type          started_at            ended_at  \\\n",
       "0  C2F7DD78E82EC875  electric_bike 2022-01-13 11:59:47 2022-01-13 12:02:44   \n",
       "1  A6CF8980A652D272  electric_bike 2022-01-10 08:41:56 2022-01-10 08:46:17   \n",
       "2  BD0F91DFF741C66D   classic_bike 2022-01-25 04:53:40 2022-01-25 04:58:01   \n",
       "3  CBB80ED419105406   classic_bike 2022-01-04 00:18:04 2022-01-04 00:33:00   \n",
       "4  DDC963BFDDA51EEA   classic_bike 2022-01-20 01:31:10 2022-01-20 01:37:12   \n",
       "5  A39C6F6CC0586C0B   classic_bike 2022-01-11 18:48:09 2022-01-11 18:51:31   \n",
       "6  BDC4AB637EDF981B   classic_bike 2022-01-30 18:32:52 2022-01-30 18:49:26   \n",
       "7  81751A3186E59A6B   classic_bike 2022-01-22 12:20:02 2022-01-22 12:32:06   \n",
       "8  154222B86A338ABD  electric_bike 2022-01-17 07:34:41 2022-01-17 08:00:08   \n",
       "9  72DC25B2DD467EEF   classic_bike 2022-01-28 15:27:53 2022-01-28 15:35:16   \n",
       "\n",
       "   start_lat  start_lng    end_lat    end_lng member_casual  trip_duration  \\\n",
       "0  42.012800 -87.665906  42.012560 -87.674367        casual          177.0   \n",
       "1  42.012763 -87.665967  42.012560 -87.674367        casual          261.0   \n",
       "2  41.925602 -87.653708  41.925330 -87.665800        member          261.0   \n",
       "3  41.983593 -87.669154  41.961507 -87.671387        casual          896.0   \n",
       "4  41.877850 -87.624080  41.884621 -87.627834        member          362.0   \n",
       "5  41.895634 -87.672069  41.903119 -87.673935        member          202.0   \n",
       "6  41.954341 -87.686080  41.952833 -87.649993        member          994.0   \n",
       "7  41.925602 -87.653708  41.931931 -87.677856        member          724.0   \n",
       "8  41.861251 -87.656500  41.883380 -87.641170        member         1527.0   \n",
       "9  41.878166 -87.631929  41.883380 -87.641170        member          443.0   \n",
       "\n",
       "   dist_btw_stations  \n",
       "0           0.701379  \n",
       "1           0.696141  \n",
       "2           1.003451  \n",
       "3           2.460125  \n",
       "4           0.814073  \n",
       "5           0.845666  \n",
       "6           2.996660  \n",
       "7           2.122693  \n",
       "8           2.767790  \n",
       "9           0.961120  "
      ]
     },
     "execution_count": 30,
     "metadata": {},
     "output_type": "execute_result"
    }
   ],
   "source": [
    "cyclistic_data_frame.head(10)"
   ]
  },
  {
   "cell_type": "markdown",
   "id": "8845e694",
   "metadata": {},
   "source": [
    "## 4. Analyze\n",
    "\n",
    "Having cleaned and process our data now we are prepared for its analysis. Throughout we keep the questions from the *Ask*  phase as guidelines for the analysis we will carry out. \n"
   ]
  },
  {
   "cell_type": "code",
   "execution_count": 7,
   "id": "affe2897",
   "metadata": {},
   "outputs": [],
   "source": [
    "cyclistic_data=pd.read_csv('cyclistic_csv_data.csv', index_col = 0)"
   ]
  },
  {
   "cell_type": "markdown",
   "id": "12f42090",
   "metadata": {},
   "source": [
    "### Plots, statistics and correlations\n",
    "\n",
    "As part of our analysis we will look at various plots which summarize the information of a given variable and the relationships between various variables. We are particularly interest in the relationship between user type (casual vs member) to other variables. The plots obtained in this section also provide essential material for the *Share* part of the project. We begin by loading the required libraries. \n"
   ]
  },
  {
   "cell_type": "code",
   "execution_count": 8,
   "id": "3f6164f8",
   "metadata": {},
   "outputs": [],
   "source": [
    "#Libraries and modules \n",
    "\n",
    "%matplotlib inline\n",
    "import matplotlib.pyplot as plt\n",
    "from matplotlib.patches import Patch\n",
    "from matplotlib.lines import Line2D\n",
    "import seaborn as sns"
   ]
  },
  {
   "cell_type": "markdown",
   "id": "73ebd07c",
   "metadata": {},
   "source": [
    "### Categorical features\n",
    "\n",
    "\n",
    "Lets start by exploring the categorical variables in our dataset. These are \n",
    "\n",
    "`rideable_type`\n",
    "\n",
    "and \n",
    "\n",
    "`member_casual`"
   ]
  },
  {
   "cell_type": "markdown",
   "id": "89ec1e82",
   "metadata": {},
   "source": [
    "### rideable_type\n",
    "The variable `rideable_type` gives the type of bike used for an specific trip. Following are its possible values together with their respective value counts.\n"
   ]
  },
  {
   "cell_type": "code",
   "execution_count": 9,
   "id": "383f3f8a",
   "metadata": {},
   "outputs": [
    {
     "data": {
      "text/plain": [
       "electric_bike    2889029\n",
       "classic_bike     2597972\n",
       "docked_bike       174858\n",
       "Name: rideable_type, dtype: int64"
      ]
     },
     "execution_count": 9,
     "metadata": {},
     "output_type": "execute_result"
    }
   ],
   "source": [
    "cyclistic_data['rideable_type'].value_counts()"
   ]
  },
  {
   "cell_type": "markdown",
   "id": "a7d7908c",
   "metadata": {},
   "source": [
    "### member_casual\n",
    "The variable `member_casual` is our target value as it contains the information about which kind of user our trips refer to.  \n"
   ]
  },
  {
   "cell_type": "code",
   "execution_count": 10,
   "id": "5f2b37da",
   "metadata": {},
   "outputs": [
    {
     "data": {
      "text/plain": [
       "member    3344996\n",
       "casual    2316863\n",
       "Name: member_casual, dtype: int64"
      ]
     },
     "execution_count": 10,
     "metadata": {},
     "output_type": "execute_result"
    }
   ],
   "source": [
    "cyclistic_data['member_casual'].value_counts()"
   ]
  },
  {
   "cell_type": "markdown",
   "id": "8763c20c",
   "metadata": {},
   "source": [
    "Now we can look back at the rideable type counts corresponding to each type of user. "
   ]
  },
  {
   "cell_type": "code",
   "execution_count": 11,
   "id": "ee6b0031",
   "metadata": {},
   "outputs": [
    {
     "name": "stderr",
     "output_type": "stream",
     "text": [
      "/home/jorge/anaconda3/lib/python3.9/site-packages/seaborn/_decorators.py:36: FutureWarning: Pass the following variable as a keyword arg: x. From version 0.12, the only valid positional argument will be `data`, and passing other arguments without an explicit keyword will result in an error or misinterpretation.\n",
      "  warnings.warn(\n"
     ]
    },
    {
     "data": {
      "text/plain": [
       "<seaborn.axisgrid.FacetGrid at 0x7effc95b17f0>"
      ]
     },
     "execution_count": 11,
     "metadata": {},
     "output_type": "execute_result"
    },
    {
     "data": {
      "image/png": "[encoded data removed]",
      "text/plain": [
       "<Figure size 621.361x500 with 1 Axes>"
      ]
     },
     "metadata": {},
     "output_type": "display_data"
    }
   ],
   "source": [
    "sns.catplot(\"rideable_type\", hue=\"member_casual\", data=cyclistic_data, kind=\"count\")"
   ]
  },
  {
   "cell_type": "markdown",
   "id": "9cb30f32",
   "metadata": {},
   "source": [
    "### Numerical features\n",
    "\n",
    "Centrality and distribution measures for each one of the numerical features can be obtained using the `describe` method. Afterwards we look at the statistics for trip duration and distance between stations for each user category and plot the corresponding distribution graphs. \n"
   ]
  },
  {
   "cell_type": "code",
   "execution_count": 12,
   "id": "de4036a3",
   "metadata": {},
   "outputs": [
    {
     "data": {
      "text/html": [
       "<div>\n",
       "<style scoped>\n",
       "    .dataframe tbody tr th:only-of-type {\n",
       "        vertical-align: middle;\n",
       "    }\n",
       "\n",
       "    .dataframe tbody tr th {\n",
       "        vertical-align: top;\n",
       "    }\n",
       "\n",
       "    .dataframe thead th {\n",
       "        text-align: right;\n",
       "    }\n",
       "</style>\n",
       "<table border=\"1\" class=\"dataframe\">\n",
       "  <thead>\n",
       "    <tr style=\"text-align: right;\">\n",
       "      <th></th>\n",
       "      <th>start_lat</th>\n",
       "      <th>start_lng</th>\n",
       "      <th>end_lat</th>\n",
       "      <th>end_lng</th>\n",
       "      <th>trip_duration</th>\n",
       "      <th>dist_btw_stations</th>\n",
       "    </tr>\n",
       "  </thead>\n",
       "  <tbody>\n",
       "    <tr>\n",
       "      <th>count</th>\n",
       "      <td>5.661859e+06</td>\n",
       "      <td>5.661859e+06</td>\n",
       "      <td>5.661859e+06</td>\n",
       "      <td>5.661859e+06</td>\n",
       "      <td>5.661859e+06</td>\n",
       "      <td>5.661859e+06</td>\n",
       "    </tr>\n",
       "    <tr>\n",
       "      <th>mean</th>\n",
       "      <td>4.190224e+01</td>\n",
       "      <td>-8.764783e+01</td>\n",
       "      <td>4.190242e+01</td>\n",
       "      <td>-8.764790e+01</td>\n",
       "      <td>9.796526e+02</td>\n",
       "      <td>2.139987e+00</td>\n",
       "    </tr>\n",
       "    <tr>\n",
       "      <th>std</th>\n",
       "      <td>4.622594e-02</td>\n",
       "      <td>2.998860e-02</td>\n",
       "      <td>6.805821e-02</td>\n",
       "      <td>1.082985e-01</td>\n",
       "      <td>2.614010e+03</td>\n",
       "      <td>1.183401e+01</td>\n",
       "    </tr>\n",
       "    <tr>\n",
       "      <th>min</th>\n",
       "      <td>4.164000e+01</td>\n",
       "      <td>-8.784000e+01</td>\n",
       "      <td>0.000000e+00</td>\n",
       "      <td>-8.814000e+01</td>\n",
       "      <td>-6.212010e+05</td>\n",
       "      <td>0.000000e+00</td>\n",
       "    </tr>\n",
       "    <tr>\n",
       "      <th>25%</th>\n",
       "      <td>4.188103e+01</td>\n",
       "      <td>-8.766154e+01</td>\n",
       "      <td>4.188103e+01</td>\n",
       "      <td>-8.766260e+01</td>\n",
       "      <td>3.490000e+02</td>\n",
       "      <td>8.731916e-01</td>\n",
       "    </tr>\n",
       "    <tr>\n",
       "      <th>50%</th>\n",
       "      <td>4.190000e+01</td>\n",
       "      <td>-8.764410e+01</td>\n",
       "      <td>4.190000e+01</td>\n",
       "      <td>-8.764414e+01</td>\n",
       "      <td>6.160000e+02</td>\n",
       "      <td>1.575242e+00</td>\n",
       "    </tr>\n",
       "    <tr>\n",
       "      <th>75%</th>\n",
       "      <td>4.193000e+01</td>\n",
       "      <td>-8.762959e+01</td>\n",
       "      <td>4.193000e+01</td>\n",
       "      <td>-8.762963e+01</td>\n",
       "      <td>1.105000e+03</td>\n",
       "      <td>2.780516e+00</td>\n",
       "    </tr>\n",
       "    <tr>\n",
       "      <th>max</th>\n",
       "      <td>4.563503e+01</td>\n",
       "      <td>-7.379648e+01</td>\n",
       "      <td>4.237000e+01</td>\n",
       "      <td>0.000000e+00</td>\n",
       "      <td>2.061244e+06</td>\n",
       "      <td>9.817319e+03</td>\n",
       "    </tr>\n",
       "  </tbody>\n",
       "</table>\n",
       "</div>"
      ],
      "text/plain": [
       "          start_lat     start_lng       end_lat       end_lng  trip_duration  \\\n",
       "count  5.661859e+06  5.661859e+06  5.661859e+06  5.661859e+06   5.661859e+06   \n",
       "mean   4.190224e+01 -8.764783e+01  4.190242e+01 -8.764790e+01   9.796526e+02   \n",
       "std    4.622594e-02  2.998860e-02  6.805821e-02  1.082985e-01   2.614010e+03   \n",
       "min    4.164000e+01 -8.784000e+01  0.000000e+00 -8.814000e+01  -6.212010e+05   \n",
       "25%    4.188103e+01 -8.766154e+01  4.188103e+01 -8.766260e+01   3.490000e+02   \n",
       "50%    4.190000e+01 -8.764410e+01  4.190000e+01 -8.764414e+01   6.160000e+02   \n",
       "75%    4.193000e+01 -8.762959e+01  4.193000e+01 -8.762963e+01   1.105000e+03   \n",
       "max    4.563503e+01 -7.379648e+01  4.237000e+01  0.000000e+00   2.061244e+06   \n",
       "\n",
       "       dist_btw_stations  \n",
       "count       5.661859e+06  \n",
       "mean        2.139987e+00  \n",
       "std         1.183401e+01  \n",
       "min         0.000000e+00  \n",
       "25%         8.731916e-01  \n",
       "50%         1.575242e+00  \n",
       "75%         2.780516e+00  \n",
       "max         9.817319e+03  "
      ]
     },
     "execution_count": 12,
     "metadata": {},
     "output_type": "execute_result"
    }
   ],
   "source": [
    "cyclistic_data.describe()"
   ]
  },
  {
   "cell_type": "markdown",
   "id": "27c65b74",
   "metadata": {},
   "source": [
    "### Trip Duration Statistics"
   ]
  },
  {
   "cell_type": "code",
   "execution_count": 13,
   "id": "f88e4290",
   "metadata": {
    "scrolled": true
   },
   "outputs": [
    {
     "data": {
      "text/html": [
       "<div>\n",
       "<style scoped>\n",
       "    .dataframe tbody tr th:only-of-type {\n",
       "        vertical-align: middle;\n",
       "    }\n",
       "\n",
       "    .dataframe tbody tr th {\n",
       "        vertical-align: top;\n",
       "    }\n",
       "\n",
       "    .dataframe thead th {\n",
       "        text-align: right;\n",
       "    }\n",
       "</style>\n",
       "<table border=\"1\" class=\"dataframe\">\n",
       "  <thead>\n",
       "    <tr style=\"text-align: right;\">\n",
       "      <th></th>\n",
       "      <th>count</th>\n",
       "      <th>mean</th>\n",
       "      <th>std</th>\n",
       "      <th>min</th>\n",
       "      <th>25%</th>\n",
       "      <th>50%</th>\n",
       "      <th>75%</th>\n",
       "      <th>max</th>\n",
       "    </tr>\n",
       "    <tr>\n",
       "      <th>member_casual</th>\n",
       "      <th></th>\n",
       "      <th></th>\n",
       "      <th></th>\n",
       "      <th></th>\n",
       "      <th></th>\n",
       "      <th></th>\n",
       "      <th></th>\n",
       "      <th></th>\n",
       "    </tr>\n",
       "  </thead>\n",
       "  <tbody>\n",
       "    <tr>\n",
       "      <th>casual</th>\n",
       "      <td>2316863.0</td>\n",
       "      <td>1319.154058</td>\n",
       "      <td>3788.856100</td>\n",
       "      <td>-8245.0</td>\n",
       "      <td>440.0</td>\n",
       "      <td>778.0</td>\n",
       "      <td>1439.0</td>\n",
       "      <td>2061244.0</td>\n",
       "    </tr>\n",
       "    <tr>\n",
       "      <th>member</th>\n",
       "      <td>3344996.0</td>\n",
       "      <td>744.501860</td>\n",
       "      <td>1219.692232</td>\n",
       "      <td>-621201.0</td>\n",
       "      <td>307.0</td>\n",
       "      <td>530.0</td>\n",
       "      <td>916.0</td>\n",
       "      <td>89996.0</td>\n",
       "    </tr>\n",
       "  </tbody>\n",
       "</table>\n",
       "</div>"
      ],
      "text/plain": [
       "                   count         mean          std       min    25%    50%  \\\n",
       "member_casual                                                                \n",
       "casual         2316863.0  1319.154058  3788.856100   -8245.0  440.0  778.0   \n",
       "member         3344996.0   744.501860  1219.692232 -621201.0  307.0  530.0   \n",
       "\n",
       "                  75%        max  \n",
       "member_casual                     \n",
       "casual         1439.0  2061244.0  \n",
       "member          916.0    89996.0  "
      ]
     },
     "execution_count": 13,
     "metadata": {},
     "output_type": "execute_result"
    }
   ],
   "source": [
    "cyclistic_data.groupby(['member_casual'])['trip_duration'].describe()"
   ]
  },
  {
   "cell_type": "markdown",
   "id": "02d6e05a",
   "metadata": {},
   "source": [
    "Looking at the statistics we observe the presence of outliers and negative values. These are probably due to corrupted entries in the database. Because of the high concentration of values we apply a shifted logarithm to the data prior to plotting the distribution in order to have a better visualization of the main trends.   "
   ]
  },
  {
   "cell_type": "code",
   "execution_count": 14,
   "id": "271fcd40",
   "metadata": {},
   "outputs": [],
   "source": [
    "def shifted_log(t):\n",
    "    return np.log(1 + t)"
   ]
  },
  {
   "cell_type": "code",
   "execution_count": 15,
   "id": "c3c67854",
   "metadata": {},
   "outputs": [],
   "source": [
    "cyclistic_data['log_duration'] = cyclistic_data['trip_duration'].apply(shifted_log) "
   ]
  },
  {
   "cell_type": "code",
   "execution_count": 16,
   "id": "c9b4fc0c",
   "metadata": {},
   "outputs": [
    {
     "data": {
      "text/plain": [
       "<seaborn.axisgrid.FacetGrid at 0x7effc8144d00>"
      ]
     },
     "execution_count": 16,
     "metadata": {},
     "output_type": "execute_result"
    },
    {
     "data": {
      "image/png": "[encoded data removed]",
      "text/plain": [
       "<Figure size 621.361x500 with 1 Axes>"
      ]
     },
     "metadata": {},
     "output_type": "display_data"
    }
   ],
   "source": [
    "sns.displot(data=cyclistic_data, x='log_duration', hue= 'member_casual', multiple=\"stack\", kind=\"kde\")"
   ]
  },
  {
   "cell_type": "markdown",
   "id": "18c03659",
   "metadata": {},
   "source": [
    "### Distance Statistics"
   ]
  },
  {
   "cell_type": "code",
   "execution_count": 17,
   "id": "e88a502d",
   "metadata": {},
   "outputs": [
    {
     "data": {
      "text/html": [
       "<div>\n",
       "<style scoped>\n",
       "    .dataframe tbody tr th:only-of-type {\n",
       "        vertical-align: middle;\n",
       "    }\n",
       "\n",
       "    .dataframe tbody tr th {\n",
       "        vertical-align: top;\n",
       "    }\n",
       "\n",
       "    .dataframe thead th {\n",
       "        text-align: right;\n",
       "    }\n",
       "</style>\n",
       "<table border=\"1\" class=\"dataframe\">\n",
       "  <thead>\n",
       "    <tr style=\"text-align: right;\">\n",
       "      <th></th>\n",
       "      <th>count</th>\n",
       "      <th>mean</th>\n",
       "      <th>std</th>\n",
       "      <th>min</th>\n",
       "      <th>25%</th>\n",
       "      <th>50%</th>\n",
       "      <th>75%</th>\n",
       "      <th>max</th>\n",
       "    </tr>\n",
       "    <tr>\n",
       "      <th>member_casual</th>\n",
       "      <th></th>\n",
       "      <th></th>\n",
       "      <th></th>\n",
       "      <th></th>\n",
       "      <th></th>\n",
       "      <th></th>\n",
       "      <th></th>\n",
       "      <th></th>\n",
       "    </tr>\n",
       "  </thead>\n",
       "  <tbody>\n",
       "    <tr>\n",
       "      <th>casual</th>\n",
       "      <td>2316863.0</td>\n",
       "      <td>2.18165</td>\n",
       "      <td>9.363813</td>\n",
       "      <td>0.0</td>\n",
       "      <td>0.915379</td>\n",
       "      <td>1.658312</td>\n",
       "      <td>2.855152</td>\n",
       "      <td>9817.319464</td>\n",
       "    </tr>\n",
       "    <tr>\n",
       "      <th>member</th>\n",
       "      <td>3344996.0</td>\n",
       "      <td>2.11113</td>\n",
       "      <td>13.278177</td>\n",
       "      <td>0.0</td>\n",
       "      <td>0.858706</td>\n",
       "      <td>1.509883</td>\n",
       "      <td>2.733323</td>\n",
       "      <td>9816.616946</td>\n",
       "    </tr>\n",
       "  </tbody>\n",
       "</table>\n",
       "</div>"
      ],
      "text/plain": [
       "                   count     mean        std  min       25%       50%  \\\n",
       "member_casual                                                           \n",
       "casual         2316863.0  2.18165   9.363813  0.0  0.915379  1.658312   \n",
       "member         3344996.0  2.11113  13.278177  0.0  0.858706  1.509883   \n",
       "\n",
       "                    75%          max  \n",
       "member_casual                         \n",
       "casual         2.855152  9817.319464  \n",
       "member         2.733323  9816.616946  "
      ]
     },
     "execution_count": 17,
     "metadata": {},
     "output_type": "execute_result"
    }
   ],
   "source": [
    "cyclistic_data.groupby(['member_casual'])['dist_btw_stations'].describe()"
   ]
  },
  {
   "cell_type": "code",
   "execution_count": 18,
   "id": "2aff6818",
   "metadata": {},
   "outputs": [],
   "source": [
    "cyclistic_data['log_dist'] = cyclistic_data['dist_btw_stations'].apply(shifted_log) "
   ]
  },
  {
   "cell_type": "code",
   "execution_count": 19,
   "id": "4041befd",
   "metadata": {},
   "outputs": [
    {
     "data": {
      "text/plain": [
       "<seaborn.axisgrid.FacetGrid at 0x7effc95bab80>"
      ]
     },
     "execution_count": 19,
     "metadata": {},
     "output_type": "execute_result"
    },
    {
     "data": {
      "image/png": "[encoded data removed]",
      "text/plain": [
       "<Figure size 621.361x500 with 1 Axes>"
      ]
     },
     "metadata": {},
     "output_type": "display_data"
    }
   ],
   "source": [
    "sns.displot(data=cyclistic_data, x='log_dist', hue= 'member_casual', multiple=\"stack\", kind=\"kde\")"
   ]
  },
  {
   "cell_type": "markdown",
   "id": "2351b73c",
   "metadata": {},
   "source": [
    "\n",
    "## 5. Share\n",
    "\n",
    "Having analyzed our data we can now communicate to our findings to various stakeholders. Returning to our original question \n",
    "\n",
    "*How do annual members and casual riders use Cyclistic bikes\n",
    "diﬀerently?*\n",
    "\n",
    "As a result of our analysis we see that the main difference is that shorter trips, both in terms of duration and distance between stations, are more common among annual members. Annual members and casual riders also differ in that annual members have an almost equal usage of electric and nonelectric bikes whilst casual members use more electric ones. Finally annual members use more often the bikes accounting for about two thirds of the total trips. \n",
    "\n",
    "These findings can be shared via visualizations based in the above graphs or in the form of dashboards. Depending on which group of stakeholders we are addressing we can use different ways of presenting our findings. \n"
   ]
  },
  {
   "cell_type": "markdown",
   "id": "15d1ee59",
   "metadata": {},
   "source": [
    "## 6. Act\n",
    "\n",
    "The overall goal in which the project is framed was to design marketing strategies aimed at converting casual riders into annual members. Our findings can be implemented in a marketing strategy that targets casual riders by highlighting the convenience of being able to use Cyclistic bikes for short and spontaneous trips. "
   ]
  },
  {
   "cell_type": "code",
   "execution_count": null,
   "id": "21d897eb",
   "metadata": {},
   "outputs": [],
   "source": []
  }
 ],
 "metadata": {
  "kernelspec": {
   "display_name": "Python 3 (ipykernel)",
   "language": "python",
   "name": "python3"
  },
  "language_info": {
   "codemirror_mode": {
    "name": "ipython",
    "version": 3
   },
   "file_extension": ".py",
   "mimetype": "text/x-python",
   "name": "python",
   "nbconvert_exporter": "python",
   "pygments_lexer": "ipython3",
   "version": "3.9.13"
  }
 },
 "nbformat": 4,
 "nbformat_minor": 5
}
